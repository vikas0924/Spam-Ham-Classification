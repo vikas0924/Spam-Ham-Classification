{
 "cells": [
  {
   "cell_type": "markdown",
   "metadata": {},
   "source": [
    "<div style=\"text-align:center\">\n",
    "    <h1 style=\"font-size:35px\">Spam/Ham Classifier</h1>\n",
    "</div>"
   ]
  },
  {
   "cell_type": "markdown",
   "metadata": {},
   "source": [
    "Spam email is a common problem that plagues inboxes around the world. In this project, we will develop a machine learning model that uses natural language processing (NLP) techniques to accurately classify emails as either spam or ham. The project involves using a dataset of labeled emails to train a machine learning model that can predict the likelihood of an email being spam.\n",
    "\n",
    "The importance of spam filtering cannot be overstated. Spam emails can be more than just annoying; they can contain malicious links, phishing scams, and other harmful content. By using machine learning to automatically filter out spam emails, we can help prevent users from falling victim to scams and other online threats.\n",
    "\n",
    "The project will involve several key steps, including preprocessing the text data by removing stop words and stemming or lemmatizing the words, and transforming the text into a numerical representation using techniques like TF-IDF or word embeddings. We will then build and train a machine learning model on the preprocessed data, and evaluate its performance using metrics like accuracy and F1 score.\n",
    "\n",
    "The trained model will be deployed in a web application that can classify new emails in real-time. The application can help email providers and individuals alike keep their inboxes organized and free of spam, thereby reducing the risk of harmful attacks and making email communication more efficient.\n",
    "\n",
    "Overall, the Spam/Ham Classifier project is a valuable tool for anyone who relies on email communication, and its importance in filtering out harmful content cannot be overstated.\n",
    "\n",
    "\n",
    "\n"
   ]
  },
  {
   "cell_type": "markdown",
   "metadata": {},
   "source": [
    "## Importing Libraries"
   ]
  },
  {
   "cell_type": "code",
   "execution_count": 1,
   "metadata": {
    "execution": {
     "iopub.execute_input": "2022-12-15T11:00:57.278612Z",
     "iopub.status.busy": "2022-12-15T11:00:57.278147Z",
     "iopub.status.idle": "2022-12-15T11:00:57.285919Z",
     "shell.execute_reply": "2022-12-15T11:00:57.284162Z",
     "shell.execute_reply.started": "2022-12-15T11:00:57.278554Z"
    }
   },
   "outputs": [],
   "source": [
    "import numpy as np\n",
    "import pandas as pd\n",
    "import matplotlib.pyplot as plt\n",
    "import seaborn as sns\n",
    "\n",
    "import warnings\n",
    "warnings.simplefilter('ignore')"
   ]
  },
  {
   "cell_type": "code",
   "execution_count": 3,
   "metadata": {
    "execution": {
     "iopub.execute_input": "2022-12-15T11:00:57.296634Z",
     "iopub.status.busy": "2022-12-15T11:00:57.295802Z",
     "iopub.status.idle": "2022-12-15T11:00:57.327501Z",
     "shell.execute_reply": "2022-12-15T11:00:57.326009Z",
     "shell.execute_reply.started": "2022-12-15T11:00:57.296583Z"
    }
   },
   "outputs": [
    {
     "data": {
      "text/html": [
       "<div>\n",
       "<style scoped>\n",
       "    .dataframe tbody tr th:only-of-type {\n",
       "        vertical-align: middle;\n",
       "    }\n",
       "\n",
       "    .dataframe tbody tr th {\n",
       "        vertical-align: top;\n",
       "    }\n",
       "\n",
       "    .dataframe thead th {\n",
       "        text-align: right;\n",
       "    }\n",
       "</style>\n",
       "<table border=\"1\" class=\"dataframe\">\n",
       "  <thead>\n",
       "    <tr style=\"text-align: right;\">\n",
       "      <th></th>\n",
       "      <th>v1</th>\n",
       "      <th>v2</th>\n",
       "      <th>Unnamed: 2</th>\n",
       "      <th>Unnamed: 3</th>\n",
       "      <th>Unnamed: 4</th>\n",
       "    </tr>\n",
       "  </thead>\n",
       "  <tbody>\n",
       "    <tr>\n",
       "      <th>0</th>\n",
       "      <td>ham</td>\n",
       "      <td>Go until jurong point, crazy.. Available only ...</td>\n",
       "      <td>NaN</td>\n",
       "      <td>NaN</td>\n",
       "      <td>NaN</td>\n",
       "    </tr>\n",
       "    <tr>\n",
       "      <th>1</th>\n",
       "      <td>ham</td>\n",
       "      <td>Ok lar... Joking wif u oni...</td>\n",
       "      <td>NaN</td>\n",
       "      <td>NaN</td>\n",
       "      <td>NaN</td>\n",
       "    </tr>\n",
       "    <tr>\n",
       "      <th>2</th>\n",
       "      <td>spam</td>\n",
       "      <td>Free entry in 2 a wkly comp to win FA Cup fina...</td>\n",
       "      <td>NaN</td>\n",
       "      <td>NaN</td>\n",
       "      <td>NaN</td>\n",
       "    </tr>\n",
       "    <tr>\n",
       "      <th>3</th>\n",
       "      <td>ham</td>\n",
       "      <td>U dun say so early hor... U c already then say...</td>\n",
       "      <td>NaN</td>\n",
       "      <td>NaN</td>\n",
       "      <td>NaN</td>\n",
       "    </tr>\n",
       "    <tr>\n",
       "      <th>4</th>\n",
       "      <td>ham</td>\n",
       "      <td>Nah I don't think he goes to usf, he lives aro...</td>\n",
       "      <td>NaN</td>\n",
       "      <td>NaN</td>\n",
       "      <td>NaN</td>\n",
       "    </tr>\n",
       "  </tbody>\n",
       "</table>\n",
       "</div>"
      ],
      "text/plain": [
       "     v1                                                 v2 Unnamed: 2  \\\n",
       "0   ham  Go until jurong point, crazy.. Available only ...        NaN   \n",
       "1   ham                      Ok lar... Joking wif u oni...        NaN   \n",
       "2  spam  Free entry in 2 a wkly comp to win FA Cup fina...        NaN   \n",
       "3   ham  U dun say so early hor... U c already then say...        NaN   \n",
       "4   ham  Nah I don't think he goes to usf, he lives aro...        NaN   \n",
       "\n",
       "  Unnamed: 3 Unnamed: 4  \n",
       "0        NaN        NaN  \n",
       "1        NaN        NaN  \n",
       "2        NaN        NaN  \n",
       "3        NaN        NaN  \n",
       "4        NaN        NaN  "
      ]
     },
     "execution_count": 3,
     "metadata": {},
     "output_type": "execute_result"
    }
   ],
   "source": [
    "# Loading data\n",
    "\n",
    "data = pd.read_csv(r'spam.csv',encoding = \"ISO-8859-1\")\n",
    "data.head()"
   ]
  },
  {
   "cell_type": "markdown",
   "metadata": {},
   "source": [
    "## Data Preprocessing"
   ]
  },
  {
   "cell_type": "code",
   "execution_count": 4,
   "metadata": {
    "execution": {
     "iopub.execute_input": "2022-12-15T11:00:57.381090Z",
     "iopub.status.busy": "2022-12-15T11:00:57.380693Z",
     "iopub.status.idle": "2022-12-15T11:00:57.395863Z",
     "shell.execute_reply": "2022-12-15T11:00:57.394365Z",
     "shell.execute_reply.started": "2022-12-15T11:00:57.381060Z"
    }
   },
   "outputs": [
    {
     "data": {
      "text/plain": [
       "v1               0\n",
       "v2               0\n",
       "Unnamed: 2    5522\n",
       "Unnamed: 3    5560\n",
       "Unnamed: 4    5566\n",
       "dtype: int64"
      ]
     },
     "execution_count": 4,
     "metadata": {},
     "output_type": "execute_result"
    }
   ],
   "source": [
    "data.isnull().sum()"
   ]
  },
  {
   "cell_type": "code",
   "execution_count": 5,
   "metadata": {
    "execution": {
     "iopub.execute_input": "2022-12-15T11:00:57.399880Z",
     "iopub.status.busy": "2022-12-15T11:00:57.398324Z",
     "iopub.status.idle": "2022-12-15T11:00:57.416997Z",
     "shell.execute_reply": "2022-12-15T11:00:57.415213Z",
     "shell.execute_reply.started": "2022-12-15T11:00:57.399827Z"
    }
   },
   "outputs": [
    {
     "data": {
      "text/html": [
       "<div>\n",
       "<style scoped>\n",
       "    .dataframe tbody tr th:only-of-type {\n",
       "        vertical-align: middle;\n",
       "    }\n",
       "\n",
       "    .dataframe tbody tr th {\n",
       "        vertical-align: top;\n",
       "    }\n",
       "\n",
       "    .dataframe thead th {\n",
       "        text-align: right;\n",
       "    }\n",
       "</style>\n",
       "<table border=\"1\" class=\"dataframe\">\n",
       "  <thead>\n",
       "    <tr style=\"text-align: right;\">\n",
       "      <th></th>\n",
       "      <th>v1</th>\n",
       "      <th>v2</th>\n",
       "    </tr>\n",
       "  </thead>\n",
       "  <tbody>\n",
       "    <tr>\n",
       "      <th>0</th>\n",
       "      <td>ham</td>\n",
       "      <td>Go until jurong point, crazy.. Available only ...</td>\n",
       "    </tr>\n",
       "    <tr>\n",
       "      <th>1</th>\n",
       "      <td>ham</td>\n",
       "      <td>Ok lar... Joking wif u oni...</td>\n",
       "    </tr>\n",
       "    <tr>\n",
       "      <th>2</th>\n",
       "      <td>spam</td>\n",
       "      <td>Free entry in 2 a wkly comp to win FA Cup fina...</td>\n",
       "    </tr>\n",
       "    <tr>\n",
       "      <th>3</th>\n",
       "      <td>ham</td>\n",
       "      <td>U dun say so early hor... U c already then say...</td>\n",
       "    </tr>\n",
       "    <tr>\n",
       "      <th>4</th>\n",
       "      <td>ham</td>\n",
       "      <td>Nah I don't think he goes to usf, he lives aro...</td>\n",
       "    </tr>\n",
       "  </tbody>\n",
       "</table>\n",
       "</div>"
      ],
      "text/plain": [
       "     v1                                                 v2\n",
       "0   ham  Go until jurong point, crazy.. Available only ...\n",
       "1   ham                      Ok lar... Joking wif u oni...\n",
       "2  spam  Free entry in 2 a wkly comp to win FA Cup fina...\n",
       "3   ham  U dun say so early hor... U c already then say...\n",
       "4   ham  Nah I don't think he goes to usf, he lives aro..."
      ]
     },
     "execution_count": 5,
     "metadata": {},
     "output_type": "execute_result"
    }
   ],
   "source": [
    "# Removing unnecessary columns\n",
    "\n",
    "data.drop(['Unnamed: 2','Unnamed: 3','Unnamed: 4'],axis =1, inplace = True)\n",
    "data.head()"
   ]
  },
  {
   "cell_type": "code",
   "execution_count": 6,
   "metadata": {
    "execution": {
     "iopub.execute_input": "2022-12-15T11:00:57.483759Z",
     "iopub.status.busy": "2022-12-15T11:00:57.483351Z",
     "iopub.status.idle": "2022-12-15T11:00:57.491974Z",
     "shell.execute_reply": "2022-12-15T11:00:57.490370Z",
     "shell.execute_reply.started": "2022-12-15T11:00:57.483729Z"
    }
   },
   "outputs": [
    {
     "data": {
      "text/plain": [
       "(5572, 2)"
      ]
     },
     "execution_count": 6,
     "metadata": {},
     "output_type": "execute_result"
    }
   ],
   "source": [
    "# checking the shape\n",
    "\n",
    "data.shape"
   ]
  },
  {
   "cell_type": "code",
   "execution_count": 7,
   "metadata": {
    "execution": {
     "iopub.execute_input": "2022-12-15T11:00:57.496881Z",
     "iopub.status.busy": "2022-12-15T11:00:57.496521Z",
     "iopub.status.idle": "2022-12-15T11:00:57.511216Z",
     "shell.execute_reply": "2022-12-15T11:00:57.509940Z",
     "shell.execute_reply.started": "2022-12-15T11:00:57.496853Z"
    }
   },
   "outputs": [
    {
     "data": {
      "text/html": [
       "<div>\n",
       "<style scoped>\n",
       "    .dataframe tbody tr th:only-of-type {\n",
       "        vertical-align: middle;\n",
       "    }\n",
       "\n",
       "    .dataframe tbody tr th {\n",
       "        vertical-align: top;\n",
       "    }\n",
       "\n",
       "    .dataframe thead th {\n",
       "        text-align: right;\n",
       "    }\n",
       "</style>\n",
       "<table border=\"1\" class=\"dataframe\">\n",
       "  <thead>\n",
       "    <tr style=\"text-align: right;\">\n",
       "      <th></th>\n",
       "      <th>Class</th>\n",
       "      <th>Text</th>\n",
       "    </tr>\n",
       "  </thead>\n",
       "  <tbody>\n",
       "    <tr>\n",
       "      <th>0</th>\n",
       "      <td>ham</td>\n",
       "      <td>Go until jurong point, crazy.. Available only ...</td>\n",
       "    </tr>\n",
       "    <tr>\n",
       "      <th>1</th>\n",
       "      <td>ham</td>\n",
       "      <td>Ok lar... Joking wif u oni...</td>\n",
       "    </tr>\n",
       "    <tr>\n",
       "      <th>2</th>\n",
       "      <td>spam</td>\n",
       "      <td>Free entry in 2 a wkly comp to win FA Cup fina...</td>\n",
       "    </tr>\n",
       "    <tr>\n",
       "      <th>3</th>\n",
       "      <td>ham</td>\n",
       "      <td>U dun say so early hor... U c already then say...</td>\n",
       "    </tr>\n",
       "    <tr>\n",
       "      <th>4</th>\n",
       "      <td>ham</td>\n",
       "      <td>Nah I don't think he goes to usf, he lives aro...</td>\n",
       "    </tr>\n",
       "  </tbody>\n",
       "</table>\n",
       "</div>"
      ],
      "text/plain": [
       "  Class                                               Text\n",
       "0   ham  Go until jurong point, crazy.. Available only ...\n",
       "1   ham                      Ok lar... Joking wif u oni...\n",
       "2  spam  Free entry in 2 a wkly comp to win FA Cup fina...\n",
       "3   ham  U dun say so early hor... U c already then say...\n",
       "4   ham  Nah I don't think he goes to usf, he lives aro..."
      ]
     },
     "execution_count": 7,
     "metadata": {},
     "output_type": "execute_result"
    }
   ],
   "source": [
    "# Renaming the columns\n",
    "data.rename(columns={'v1':'Class', 'v2':'Text'}, inplace = True)\n",
    "data.head()"
   ]
  },
  {
   "cell_type": "code",
   "execution_count": 8,
   "metadata": {
    "execution": {
     "iopub.execute_input": "2022-12-15T11:00:57.596447Z",
     "iopub.status.busy": "2022-12-15T11:00:57.595559Z",
     "iopub.status.idle": "2022-12-15T11:00:57.604259Z",
     "shell.execute_reply": "2022-12-15T11:00:57.602237Z",
     "shell.execute_reply.started": "2022-12-15T11:00:57.596403Z"
    }
   },
   "outputs": [],
   "source": [
    "from sklearn.preprocessing import LabelEncoder\n",
    "\n",
    "le  = LabelEncoder()"
   ]
  },
  {
   "cell_type": "code",
   "execution_count": 9,
   "metadata": {
    "execution": {
     "iopub.execute_input": "2022-12-15T11:00:57.689353Z",
     "iopub.status.busy": "2022-12-15T11:00:57.687922Z",
     "iopub.status.idle": "2022-12-15T11:00:57.697947Z",
     "shell.execute_reply": "2022-12-15T11:00:57.696239Z",
     "shell.execute_reply.started": "2022-12-15T11:00:57.689296Z"
    }
   },
   "outputs": [],
   "source": [
    "# Converting out target variable\n",
    "\n",
    "data['Class'] = le.fit_transform(data['Class'])"
   ]
  },
  {
   "cell_type": "code",
   "execution_count": 10,
   "metadata": {
    "execution": {
     "iopub.execute_input": "2022-12-15T11:00:57.701304Z",
     "iopub.status.busy": "2022-12-15T11:00:57.700356Z",
     "iopub.status.idle": "2022-12-15T11:00:57.719736Z",
     "shell.execute_reply": "2022-12-15T11:00:57.718292Z",
     "shell.execute_reply.started": "2022-12-15T11:00:57.701260Z"
    }
   },
   "outputs": [
    {
     "name": "stdout",
     "output_type": "stream",
     "text": [
      "<class 'pandas.core.frame.DataFrame'>\n",
      "RangeIndex: 5572 entries, 0 to 5571\n",
      "Data columns (total 2 columns):\n",
      " #   Column  Non-Null Count  Dtype \n",
      "---  ------  --------------  ----- \n",
      " 0   Class   5572 non-null   int32 \n",
      " 1   Text    5572 non-null   object\n",
      "dtypes: int32(1), object(1)\n",
      "memory usage: 65.4+ KB\n"
     ]
    }
   ],
   "source": [
    "data.info()"
   ]
  },
  {
   "cell_type": "code",
   "execution_count": 11,
   "metadata": {
    "execution": {
     "iopub.execute_input": "2022-12-15T11:00:57.722445Z",
     "iopub.status.busy": "2022-12-15T11:00:57.721931Z",
     "iopub.status.idle": "2022-12-15T11:00:57.738817Z",
     "shell.execute_reply": "2022-12-15T11:00:57.737646Z",
     "shell.execute_reply.started": "2022-12-15T11:00:57.722413Z"
    }
   },
   "outputs": [
    {
     "data": {
      "text/html": [
       "<div>\n",
       "<style scoped>\n",
       "    .dataframe tbody tr th:only-of-type {\n",
       "        vertical-align: middle;\n",
       "    }\n",
       "\n",
       "    .dataframe tbody tr th {\n",
       "        vertical-align: top;\n",
       "    }\n",
       "\n",
       "    .dataframe thead th {\n",
       "        text-align: right;\n",
       "    }\n",
       "</style>\n",
       "<table border=\"1\" class=\"dataframe\">\n",
       "  <thead>\n",
       "    <tr style=\"text-align: right;\">\n",
       "      <th></th>\n",
       "      <th>Class</th>\n",
       "      <th>Text</th>\n",
       "    </tr>\n",
       "  </thead>\n",
       "  <tbody>\n",
       "    <tr>\n",
       "      <th>0</th>\n",
       "      <td>0</td>\n",
       "      <td>Go until jurong point, crazy.. Available only ...</td>\n",
       "    </tr>\n",
       "    <tr>\n",
       "      <th>1</th>\n",
       "      <td>0</td>\n",
       "      <td>Ok lar... Joking wif u oni...</td>\n",
       "    </tr>\n",
       "    <tr>\n",
       "      <th>2</th>\n",
       "      <td>1</td>\n",
       "      <td>Free entry in 2 a wkly comp to win FA Cup fina...</td>\n",
       "    </tr>\n",
       "    <tr>\n",
       "      <th>3</th>\n",
       "      <td>0</td>\n",
       "      <td>U dun say so early hor... U c already then say...</td>\n",
       "    </tr>\n",
       "    <tr>\n",
       "      <th>4</th>\n",
       "      <td>0</td>\n",
       "      <td>Nah I don't think he goes to usf, he lives aro...</td>\n",
       "    </tr>\n",
       "  </tbody>\n",
       "</table>\n",
       "</div>"
      ],
      "text/plain": [
       "   Class                                               Text\n",
       "0      0  Go until jurong point, crazy.. Available only ...\n",
       "1      0                      Ok lar... Joking wif u oni...\n",
       "2      1  Free entry in 2 a wkly comp to win FA Cup fina...\n",
       "3      0  U dun say so early hor... U c already then say...\n",
       "4      0  Nah I don't think he goes to usf, he lives aro..."
      ]
     },
     "execution_count": 11,
     "metadata": {},
     "output_type": "execute_result"
    }
   ],
   "source": [
    "data.head()"
   ]
  },
  {
   "cell_type": "code",
   "execution_count": 12,
   "metadata": {
    "execution": {
     "iopub.execute_input": "2022-12-15T11:00:57.741007Z",
     "iopub.status.busy": "2022-12-15T11:00:57.740641Z",
     "iopub.status.idle": "2022-12-15T11:00:57.756859Z",
     "shell.execute_reply": "2022-12-15T11:00:57.755033Z",
     "shell.execute_reply.started": "2022-12-15T11:00:57.740976Z"
    }
   },
   "outputs": [
    {
     "data": {
      "text/plain": [
       "403"
      ]
     },
     "execution_count": 12,
     "metadata": {},
     "output_type": "execute_result"
    }
   ],
   "source": [
    "# Checking for duplicate values\n",
    "\n",
    "data.duplicated().sum()"
   ]
  },
  {
   "cell_type": "code",
   "execution_count": 13,
   "metadata": {
    "execution": {
     "iopub.execute_input": "2022-12-15T11:00:57.790988Z",
     "iopub.status.busy": "2022-12-15T11:00:57.790588Z",
     "iopub.status.idle": "2022-12-15T11:00:57.799572Z",
     "shell.execute_reply": "2022-12-15T11:00:57.798294Z",
     "shell.execute_reply.started": "2022-12-15T11:00:57.790957Z"
    }
   },
   "outputs": [
    {
     "data": {
      "text/plain": [
       "(5572, 2)"
      ]
     },
     "execution_count": 13,
     "metadata": {},
     "output_type": "execute_result"
    }
   ],
   "source": [
    "data.shape"
   ]
  },
  {
   "cell_type": "code",
   "execution_count": 14,
   "metadata": {
    "execution": {
     "iopub.execute_input": "2022-12-15T11:00:57.806593Z",
     "iopub.status.busy": "2022-12-15T11:00:57.806181Z",
     "iopub.status.idle": "2022-12-15T11:00:57.821359Z",
     "shell.execute_reply": "2022-12-15T11:00:57.819884Z",
     "shell.execute_reply.started": "2022-12-15T11:00:57.806553Z"
    }
   },
   "outputs": [
    {
     "data": {
      "text/plain": [
       "(5169, 2)"
      ]
     },
     "execution_count": 14,
     "metadata": {},
     "output_type": "execute_result"
    }
   ],
   "source": [
    "data.drop_duplicates(keep ='first', inplace = True)\n",
    "data.shape"
   ]
  },
  {
   "cell_type": "markdown",
   "metadata": {},
   "source": [
    "## Exploratory Data Analysis"
   ]
  },
  {
   "cell_type": "code",
   "execution_count": 15,
   "metadata": {
    "execution": {
     "iopub.execute_input": "2022-12-15T11:00:57.893473Z",
     "iopub.status.busy": "2022-12-15T11:00:57.892740Z",
     "iopub.status.idle": "2022-12-15T11:00:57.905699Z",
     "shell.execute_reply": "2022-12-15T11:00:57.904209Z",
     "shell.execute_reply.started": "2022-12-15T11:00:57.893427Z"
    }
   },
   "outputs": [
    {
     "data": {
      "text/html": [
       "<div>\n",
       "<style scoped>\n",
       "    .dataframe tbody tr th:only-of-type {\n",
       "        vertical-align: middle;\n",
       "    }\n",
       "\n",
       "    .dataframe tbody tr th {\n",
       "        vertical-align: top;\n",
       "    }\n",
       "\n",
       "    .dataframe thead th {\n",
       "        text-align: right;\n",
       "    }\n",
       "</style>\n",
       "<table border=\"1\" class=\"dataframe\">\n",
       "  <thead>\n",
       "    <tr style=\"text-align: right;\">\n",
       "      <th></th>\n",
       "      <th>Class</th>\n",
       "      <th>Text</th>\n",
       "    </tr>\n",
       "  </thead>\n",
       "  <tbody>\n",
       "    <tr>\n",
       "      <th>0</th>\n",
       "      <td>0</td>\n",
       "      <td>Go until jurong point, crazy.. Available only ...</td>\n",
       "    </tr>\n",
       "    <tr>\n",
       "      <th>1</th>\n",
       "      <td>0</td>\n",
       "      <td>Ok lar... Joking wif u oni...</td>\n",
       "    </tr>\n",
       "    <tr>\n",
       "      <th>2</th>\n",
       "      <td>1</td>\n",
       "      <td>Free entry in 2 a wkly comp to win FA Cup fina...</td>\n",
       "    </tr>\n",
       "    <tr>\n",
       "      <th>3</th>\n",
       "      <td>0</td>\n",
       "      <td>U dun say so early hor... U c already then say...</td>\n",
       "    </tr>\n",
       "    <tr>\n",
       "      <th>4</th>\n",
       "      <td>0</td>\n",
       "      <td>Nah I don't think he goes to usf, he lives aro...</td>\n",
       "    </tr>\n",
       "  </tbody>\n",
       "</table>\n",
       "</div>"
      ],
      "text/plain": [
       "   Class                                               Text\n",
       "0      0  Go until jurong point, crazy.. Available only ...\n",
       "1      0                      Ok lar... Joking wif u oni...\n",
       "2      1  Free entry in 2 a wkly comp to win FA Cup fina...\n",
       "3      0  U dun say so early hor... U c already then say...\n",
       "4      0  Nah I don't think he goes to usf, he lives aro..."
      ]
     },
     "execution_count": 15,
     "metadata": {},
     "output_type": "execute_result"
    }
   ],
   "source": [
    "data.head()"
   ]
  },
  {
   "cell_type": "code",
   "execution_count": 16,
   "metadata": {
    "execution": {
     "iopub.execute_input": "2022-12-15T11:00:57.908379Z",
     "iopub.status.busy": "2022-12-15T11:00:57.908007Z",
     "iopub.status.idle": "2022-12-15T11:00:58.035471Z",
     "shell.execute_reply": "2022-12-15T11:00:58.033669Z",
     "shell.execute_reply.started": "2022-12-15T11:00:57.908349Z"
    }
   },
   "outputs": [
    {
     "data": {
      "text/plain": [
       "<AxesSubplot:ylabel='Class'>"
      ]
     },
     "execution_count": 16,
     "metadata": {},
     "output_type": "execute_result"
    },
    {
     "data": {
      "image/png": "[encoded data removed]",
      "text/plain": [
       "<Figure size 432x288 with 1 Axes>"
      ]
     },
     "metadata": {},
     "output_type": "display_data"
    }
   ],
   "source": [
    "# Checking the distribution of our target class\n",
    "\n",
    "data['Class'].value_counts().plot(kind = 'pie', autopct=\"%0.1f\", labels = ['Ham', 'Spam'], explode = [0.05,0.05])"
   ]
  },
  {
   "cell_type": "markdown",
   "metadata": {},
   "source": [
    "> Our data is highly biased towards Ham classes, it is imbalanced."
   ]
  },
  {
   "cell_type": "code",
   "execution_count": 18,
   "metadata": {
    "execution": {
     "iopub.execute_input": "2022-12-15T11:00:58.054805Z",
     "iopub.status.busy": "2022-12-15T11:00:58.052326Z",
     "iopub.status.idle": "2022-12-15T11:00:58.120338Z",
     "shell.execute_reply": "2022-12-15T11:00:58.119202Z",
     "shell.execute_reply.started": "2022-12-15T11:00:58.054719Z"
    }
   },
   "outputs": [
    {
     "name": "stderr",
     "output_type": "stream",
     "text": [
      "[nltk_data] Downloading package punkt to\n",
      "[nltk_data]     C:\\Users\\pc\\AppData\\Roaming\\nltk_data...\n",
      "[nltk_data]   Package punkt is already up-to-date!\n"
     ]
    },
    {
     "data": {
      "text/plain": [
       "True"
      ]
     },
     "execution_count": 18,
     "metadata": {},
     "output_type": "execute_result"
    }
   ],
   "source": [
    "import nltk\n",
    "nltk.download('punkt')"
   ]
  },
  {
   "cell_type": "code",
   "execution_count": 19,
   "metadata": {
    "execution": {
     "iopub.execute_input": "2022-12-15T11:00:58.123823Z",
     "iopub.status.busy": "2022-12-15T11:00:58.123422Z",
     "iopub.status.idle": "2022-12-15T11:00:58.131861Z",
     "shell.execute_reply": "2022-12-15T11:00:58.130201Z",
     "shell.execute_reply.started": "2022-12-15T11:00:58.123783Z"
    }
   },
   "outputs": [],
   "source": [
    "def cols(df):\n",
    "    df['Sent_Length'] = df['Text'].apply(lambda x:len(nltk.sent_tokenize(x)))\n",
    "    df['Word_length'] =df['Text'].apply(lambda x:len(nltk.word_tokenize(x)))"
   ]
  },
  {
   "cell_type": "code",
   "execution_count": 20,
   "metadata": {
    "execution": {
     "iopub.execute_input": "2022-12-15T11:00:58.134689Z",
     "iopub.status.busy": "2022-12-15T11:00:58.134309Z",
     "iopub.status.idle": "2022-12-15T11:00:59.653959Z",
     "shell.execute_reply": "2022-12-15T11:00:59.652499Z",
     "shell.execute_reply.started": "2022-12-15T11:00:58.134659Z"
    }
   },
   "outputs": [],
   "source": [
    "cols(data)"
   ]
  },
  {
   "cell_type": "code",
   "execution_count": 21,
   "metadata": {
    "execution": {
     "iopub.execute_input": "2022-12-15T11:00:59.656176Z",
     "iopub.status.busy": "2022-12-15T11:00:59.655550Z",
     "iopub.status.idle": "2022-12-15T11:00:59.668392Z",
     "shell.execute_reply": "2022-12-15T11:00:59.667369Z",
     "shell.execute_reply.started": "2022-12-15T11:00:59.656135Z"
    }
   },
   "outputs": [
    {
     "data": {
      "text/html": [
       "<div>\n",
       "<style scoped>\n",
       "    .dataframe tbody tr th:only-of-type {\n",
       "        vertical-align: middle;\n",
       "    }\n",
       "\n",
       "    .dataframe tbody tr th {\n",
       "        vertical-align: top;\n",
       "    }\n",
       "\n",
       "    .dataframe thead th {\n",
       "        text-align: right;\n",
       "    }\n",
       "</style>\n",
       "<table border=\"1\" class=\"dataframe\">\n",
       "  <thead>\n",
       "    <tr style=\"text-align: right;\">\n",
       "      <th></th>\n",
       "      <th>Class</th>\n",
       "      <th>Text</th>\n",
       "      <th>Sent_Length</th>\n",
       "      <th>Word_length</th>\n",
       "    </tr>\n",
       "  </thead>\n",
       "  <tbody>\n",
       "    <tr>\n",
       "      <th>0</th>\n",
       "      <td>0</td>\n",
       "      <td>Go until jurong point, crazy.. Available only ...</td>\n",
       "      <td>2</td>\n",
       "      <td>24</td>\n",
       "    </tr>\n",
       "    <tr>\n",
       "      <th>1</th>\n",
       "      <td>0</td>\n",
       "      <td>Ok lar... Joking wif u oni...</td>\n",
       "      <td>2</td>\n",
       "      <td>8</td>\n",
       "    </tr>\n",
       "    <tr>\n",
       "      <th>2</th>\n",
       "      <td>1</td>\n",
       "      <td>Free entry in 2 a wkly comp to win FA Cup fina...</td>\n",
       "      <td>2</td>\n",
       "      <td>37</td>\n",
       "    </tr>\n",
       "    <tr>\n",
       "      <th>3</th>\n",
       "      <td>0</td>\n",
       "      <td>U dun say so early hor... U c already then say...</td>\n",
       "      <td>1</td>\n",
       "      <td>13</td>\n",
       "    </tr>\n",
       "    <tr>\n",
       "      <th>4</th>\n",
       "      <td>0</td>\n",
       "      <td>Nah I don't think he goes to usf, he lives aro...</td>\n",
       "      <td>1</td>\n",
       "      <td>15</td>\n",
       "    </tr>\n",
       "  </tbody>\n",
       "</table>\n",
       "</div>"
      ],
      "text/plain": [
       "   Class                                               Text  Sent_Length  \\\n",
       "0      0  Go until jurong point, crazy.. Available only ...            2   \n",
       "1      0                      Ok lar... Joking wif u oni...            2   \n",
       "2      1  Free entry in 2 a wkly comp to win FA Cup fina...            2   \n",
       "3      0  U dun say so early hor... U c already then say...            1   \n",
       "4      0  Nah I don't think he goes to usf, he lives aro...            1   \n",
       "\n",
       "   Word_length  \n",
       "0           24  \n",
       "1            8  \n",
       "2           37  \n",
       "3           13  \n",
       "4           15  "
      ]
     },
     "execution_count": 21,
     "metadata": {},
     "output_type": "execute_result"
    }
   ],
   "source": [
    "data.head()"
   ]
  },
  {
   "cell_type": "code",
   "execution_count": 22,
   "metadata": {
    "execution": {
     "iopub.execute_input": "2022-12-15T11:00:59.670735Z",
     "iopub.status.busy": "2022-12-15T11:00:59.669782Z",
     "iopub.status.idle": "2022-12-15T11:00:59.699523Z",
     "shell.execute_reply": "2022-12-15T11:00:59.698191Z",
     "shell.execute_reply.started": "2022-12-15T11:00:59.670693Z"
    }
   },
   "outputs": [
    {
     "data": {
      "text/html": [
       "<div>\n",
       "<style scoped>\n",
       "    .dataframe tbody tr th:only-of-type {\n",
       "        vertical-align: middle;\n",
       "    }\n",
       "\n",
       "    .dataframe tbody tr th {\n",
       "        vertical-align: top;\n",
       "    }\n",
       "\n",
       "    .dataframe thead th {\n",
       "        text-align: right;\n",
       "    }\n",
       "</style>\n",
       "<table border=\"1\" class=\"dataframe\">\n",
       "  <thead>\n",
       "    <tr style=\"text-align: right;\">\n",
       "      <th></th>\n",
       "      <th>Sent_Length</th>\n",
       "      <th>Word_length</th>\n",
       "    </tr>\n",
       "  </thead>\n",
       "  <tbody>\n",
       "    <tr>\n",
       "      <th>count</th>\n",
       "      <td>4516.000000</td>\n",
       "      <td>4516.000000</td>\n",
       "    </tr>\n",
       "    <tr>\n",
       "      <th>mean</th>\n",
       "      <td>1.815545</td>\n",
       "      <td>17.123339</td>\n",
       "    </tr>\n",
       "    <tr>\n",
       "      <th>std</th>\n",
       "      <td>1.364098</td>\n",
       "      <td>13.491315</td>\n",
       "    </tr>\n",
       "    <tr>\n",
       "      <th>min</th>\n",
       "      <td>1.000000</td>\n",
       "      <td>1.000000</td>\n",
       "    </tr>\n",
       "    <tr>\n",
       "      <th>25%</th>\n",
       "      <td>1.000000</td>\n",
       "      <td>8.000000</td>\n",
       "    </tr>\n",
       "    <tr>\n",
       "      <th>50%</th>\n",
       "      <td>1.000000</td>\n",
       "      <td>13.000000</td>\n",
       "    </tr>\n",
       "    <tr>\n",
       "      <th>75%</th>\n",
       "      <td>2.000000</td>\n",
       "      <td>22.000000</td>\n",
       "    </tr>\n",
       "    <tr>\n",
       "      <th>max</th>\n",
       "      <td>38.000000</td>\n",
       "      <td>220.000000</td>\n",
       "    </tr>\n",
       "  </tbody>\n",
       "</table>\n",
       "</div>"
      ],
      "text/plain": [
       "       Sent_Length  Word_length\n",
       "count  4516.000000  4516.000000\n",
       "mean      1.815545    17.123339\n",
       "std       1.364098    13.491315\n",
       "min       1.000000     1.000000\n",
       "25%       1.000000     8.000000\n",
       "50%       1.000000    13.000000\n",
       "75%       2.000000    22.000000\n",
       "max      38.000000   220.000000"
      ]
     },
     "execution_count": 22,
     "metadata": {},
     "output_type": "execute_result"
    }
   ],
   "source": [
    "# Ham Classes\n",
    "data[data['Class']==0][['Sent_Length','Word_length']].describe()"
   ]
  },
  {
   "cell_type": "code",
   "execution_count": 23,
   "metadata": {
    "execution": {
     "iopub.execute_input": "2022-12-15T11:00:59.702635Z",
     "iopub.status.busy": "2022-12-15T11:00:59.701692Z",
     "iopub.status.idle": "2022-12-15T11:00:59.725150Z",
     "shell.execute_reply": "2022-12-15T11:00:59.723857Z",
     "shell.execute_reply.started": "2022-12-15T11:00:59.702587Z"
    }
   },
   "outputs": [
    {
     "data": {
      "text/html": [
       "<div>\n",
       "<style scoped>\n",
       "    .dataframe tbody tr th:only-of-type {\n",
       "        vertical-align: middle;\n",
       "    }\n",
       "\n",
       "    .dataframe tbody tr th {\n",
       "        vertical-align: top;\n",
       "    }\n",
       "\n",
       "    .dataframe thead th {\n",
       "        text-align: right;\n",
       "    }\n",
       "</style>\n",
       "<table border=\"1\" class=\"dataframe\">\n",
       "  <thead>\n",
       "    <tr style=\"text-align: right;\">\n",
       "      <th></th>\n",
       "      <th>Sent_Length</th>\n",
       "      <th>Word_length</th>\n",
       "    </tr>\n",
       "  </thead>\n",
       "  <tbody>\n",
       "    <tr>\n",
       "      <th>count</th>\n",
       "      <td>653.000000</td>\n",
       "      <td>653.000000</td>\n",
       "    </tr>\n",
       "    <tr>\n",
       "      <th>mean</th>\n",
       "      <td>2.969372</td>\n",
       "      <td>27.667688</td>\n",
       "    </tr>\n",
       "    <tr>\n",
       "      <th>std</th>\n",
       "      <td>1.488910</td>\n",
       "      <td>7.008418</td>\n",
       "    </tr>\n",
       "    <tr>\n",
       "      <th>min</th>\n",
       "      <td>1.000000</td>\n",
       "      <td>2.000000</td>\n",
       "    </tr>\n",
       "    <tr>\n",
       "      <th>25%</th>\n",
       "      <td>2.000000</td>\n",
       "      <td>25.000000</td>\n",
       "    </tr>\n",
       "    <tr>\n",
       "      <th>50%</th>\n",
       "      <td>3.000000</td>\n",
       "      <td>29.000000</td>\n",
       "    </tr>\n",
       "    <tr>\n",
       "      <th>75%</th>\n",
       "      <td>4.000000</td>\n",
       "      <td>32.000000</td>\n",
       "    </tr>\n",
       "    <tr>\n",
       "      <th>max</th>\n",
       "      <td>9.000000</td>\n",
       "      <td>46.000000</td>\n",
       "    </tr>\n",
       "  </tbody>\n",
       "</table>\n",
       "</div>"
      ],
      "text/plain": [
       "       Sent_Length  Word_length\n",
       "count   653.000000   653.000000\n",
       "mean      2.969372    27.667688\n",
       "std       1.488910     7.008418\n",
       "min       1.000000     2.000000\n",
       "25%       2.000000    25.000000\n",
       "50%       3.000000    29.000000\n",
       "75%       4.000000    32.000000\n",
       "max       9.000000    46.000000"
      ]
     },
     "execution_count": 23,
     "metadata": {},
     "output_type": "execute_result"
    }
   ],
   "source": [
    "# Spam Classes\n",
    "data[data['Class']==1][['Sent_Length','Word_length']].describe()"
   ]
  },
  {
   "cell_type": "code",
   "execution_count": 24,
   "metadata": {
    "execution": {
     "iopub.execute_input": "2022-12-15T11:00:59.730541Z",
     "iopub.status.busy": "2022-12-15T11:00:59.726800Z",
     "iopub.status.idle": "2022-12-15T11:01:00.289364Z",
     "shell.execute_reply": "2022-12-15T11:01:00.288408Z",
     "shell.execute_reply.started": "2022-12-15T11:00:59.730490Z"
    }
   },
   "outputs": [
    {
     "data": {
      "text/plain": [
       "<AxesSubplot:xlabel='Word_length', ylabel='Count'>"
      ]
     },
     "execution_count": 24,
     "metadata": {},
     "output_type": "execute_result"
    },
    {
     "data": {
      "image/png": "[encoded data removed]",
      "text/plain": [
       "<Figure size 1296x432 with 1 Axes>"
      ]
     },
     "metadata": {
      "needs_background": "light"
     },
     "output_type": "display_data"
    }
   ],
   "source": [
    "plt.figure(figsize = (18,6))\n",
    "sns.histplot(data[data['Class']==0]['Word_length'])\n",
    "sns.histplot(data[data['Class']==1]['Word_length'], color = 'red')"
   ]
  },
  {
   "cell_type": "markdown",
   "metadata": {},
   "source": [
    "> In General Spam text contain around 25-40 words on average.\n",
    "> Ham text are densed mostly between 2-30 words."
   ]
  },
  {
   "cell_type": "code",
   "execution_count": 25,
   "metadata": {
    "execution": {
     "iopub.execute_input": "2022-12-15T11:01:00.293162Z",
     "iopub.status.busy": "2022-12-15T11:01:00.292766Z",
     "iopub.status.idle": "2022-12-15T11:01:00.299178Z",
     "shell.execute_reply": "2022-12-15T11:01:00.297744Z",
     "shell.execute_reply.started": "2022-12-15T11:01:00.293115Z"
    }
   },
   "outputs": [],
   "source": [
    "from wordcloud import WordCloud, STOPWORDS"
   ]
  },
  {
   "cell_type": "code",
   "execution_count": 26,
   "metadata": {
    "execution": {
     "iopub.execute_input": "2022-12-15T11:01:00.301521Z",
     "iopub.status.busy": "2022-12-15T11:01:00.301080Z",
     "iopub.status.idle": "2022-12-15T11:01:00.621716Z",
     "shell.execute_reply": "2022-12-15T11:01:00.620692Z",
     "shell.execute_reply.started": "2022-12-15T11:01:00.301486Z"
    }
   },
   "outputs": [
    {
     "data": {
      "image/png": "[encoded data removed]",
      "text/plain": [
       "<Figure size 720x720 with 1 Axes>"
      ]
     },
     "metadata": {
      "needs_background": "light"
     },
     "output_type": "display_data"
    }
   ],
   "source": [
    "## Analyzing the content of \"Text\" proided.\n",
    "\n",
    "stopwords= set(STOPWORDS)\n",
    "def cloud(data):\n",
    "    wordcloud = WordCloud(\n",
    "    stopwords = stopwords,\n",
    "    max_words =150,\n",
    "    ).generate(str(data))\n",
    "    \n",
    "    fig = plt.figure(1, figsize=(10,10))\n",
    "    plt.axis('off')\n",
    "    plt.imshow(wordcloud)\n",
    "    plt.show()\n",
    "    \n",
    "cloud(data[data['Class']==0]['Text'])"
   ]
  },
  {
   "cell_type": "markdown",
   "metadata": {},
   "source": [
    "> Most commonly words used in Ham messages"
   ]
  },
  {
   "cell_type": "code",
   "execution_count": 27,
   "metadata": {
    "execution": {
     "iopub.execute_input": "2022-12-15T11:01:00.623700Z",
     "iopub.status.busy": "2022-12-15T11:01:00.623142Z",
     "iopub.status.idle": "2022-12-15T11:01:01.090293Z",
     "shell.execute_reply": "2022-12-15T11:01:01.089102Z",
     "shell.execute_reply.started": "2022-12-15T11:01:00.623666Z"
    }
   },
   "outputs": [
    {
     "data": {
      "image/png": "[encoded data removed]",
      "text/plain": [
       "<Figure size 720x720 with 1 Axes>"
      ]
     },
     "metadata": {
      "needs_background": "light"
     },
     "output_type": "display_data"
    }
   ],
   "source": [
    "cloud(data[data['Class']==1]['Text'])"
   ]
  },
  {
   "cell_type": "markdown",
   "metadata": {},
   "source": [
    "> Most commonly words used in Spam messages"
   ]
  },
  {
   "cell_type": "markdown",
   "metadata": {},
   "source": [
    "## Data Preprocessing"
   ]
  },
  {
   "cell_type": "markdown",
   "metadata": {},
   "source": [
    "* Converting all characters into lower case.\n",
    "* Word tokenization.\n",
    "* Selecting words which only are alpha-numeric.\n",
    "* Removing stopwords.\n",
    "* Removing punctuation.\n",
    "* Lemmatization."
   ]
  },
  {
   "cell_type": "code",
   "execution_count": 28,
   "metadata": {
    "execution": {
     "iopub.execute_input": "2022-12-15T11:01:01.091919Z",
     "iopub.status.busy": "2022-12-15T11:01:01.091584Z",
     "iopub.status.idle": "2022-12-15T11:01:01.097909Z",
     "shell.execute_reply": "2022-12-15T11:01:01.096687Z",
     "shell.execute_reply.started": "2022-12-15T11:01:01.091889Z"
    }
   },
   "outputs": [],
   "source": [
    "  import nltk\n",
    "  stopwords = nltk.corpus.stopwords.words('english')\n"
   ]
  },
  {
   "cell_type": "code",
   "execution_count": 29,
   "metadata": {
    "execution": {
     "iopub.execute_input": "2022-12-15T11:01:01.100335Z",
     "iopub.status.busy": "2022-12-15T11:01:01.099959Z",
     "iopub.status.idle": "2022-12-15T11:01:01.114725Z",
     "shell.execute_reply": "2022-12-15T11:01:01.113374Z",
     "shell.execute_reply.started": "2022-12-15T11:01:01.100306Z"
    }
   },
   "outputs": [
    {
     "data": {
      "text/plain": [
       "'!\"#$%&\\'()*+,-./:;<=>?@[\\\\]^_`{|}~'"
      ]
     },
     "execution_count": 29,
     "metadata": {},
     "output_type": "execute_result"
    }
   ],
   "source": [
    "import string\n",
    "string.punctuation"
   ]
  },
  {
   "cell_type": "code",
   "execution_count": 32,
   "metadata": {
    "execution": {
     "iopub.execute_input": "2022-12-15T11:01:01.116632Z",
     "iopub.status.busy": "2022-12-15T11:01:01.116274Z",
     "iopub.status.idle": "2022-12-15T11:01:01.197915Z",
     "shell.execute_reply": "2022-12-15T11:01:01.196198Z",
     "shell.execute_reply.started": "2022-12-15T11:01:01.116602Z"
    }
   },
   "outputs": [],
   "source": [
    "from nltk.stem.wordnet import WordNetLemmatizer\n",
    "lemmatizer = WordNetLemmatizer()"
   ]
  },
  {
   "cell_type": "code",
   "execution_count": 33,
   "metadata": {
    "execution": {
     "iopub.execute_input": "2022-12-15T11:01:01.201448Z",
     "iopub.status.busy": "2022-12-15T11:01:01.199798Z",
     "iopub.status.idle": "2022-12-15T11:01:01.212264Z",
     "shell.execute_reply": "2022-12-15T11:01:01.210515Z",
     "shell.execute_reply.started": "2022-12-15T11:01:01.201354Z"
    }
   },
   "outputs": [],
   "source": [
    "def reform(sentance):\n",
    "    text = sentance.lower()\n",
    "    text = nltk.word_tokenize(text)\n",
    "    y =[]\n",
    "    for i in text:\n",
    "        if i.isalnum():\n",
    "            y.append(i)\n",
    "    new = []\n",
    "    for i in y:\n",
    "        if i not in stopwords and i not in string.punctuation:\n",
    "            new.append(i)\n",
    "    final = []\n",
    "    for i in new:\n",
    "        final.append(lemmatizer.lemmatize(i))\n",
    "    return \" \".join(final)"
   ]
  },
  {
   "cell_type": "code",
   "execution_count": 34,
   "metadata": {
    "execution": {
     "iopub.execute_input": "2022-12-15T11:01:01.213874Z",
     "iopub.status.busy": "2022-12-15T11:01:01.213524Z",
     "iopub.status.idle": "2022-12-15T11:01:01.228702Z",
     "shell.execute_reply": "2022-12-15T11:01:01.226960Z",
     "shell.execute_reply.started": "2022-12-15T11:01:01.213844Z"
    }
   },
   "outputs": [
    {
     "data": {
      "text/plain": [
       "'loved lie eminem like song 123'"
      ]
     },
     "execution_count": 34,
     "metadata": {},
     "output_type": "execute_result"
    }
   ],
   "source": [
    "reform('I loved the You lie by Eminem, did you like this song ?? 123 @@@ ')"
   ]
  },
  {
   "cell_type": "code",
   "execution_count": 35,
   "metadata": {
    "execution": {
     "iopub.execute_input": "2022-12-15T11:01:01.232042Z",
     "iopub.status.busy": "2022-12-15T11:01:01.231027Z",
     "iopub.status.idle": "2022-12-15T11:01:01.244198Z",
     "shell.execute_reply": "2022-12-15T11:01:01.242939Z",
     "shell.execute_reply.started": "2022-12-15T11:01:01.231981Z"
    }
   },
   "outputs": [
    {
     "data": {
      "text/plain": [
       "0       Go until jurong point, crazy.. Available only ...\n",
       "1                           Ok lar... Joking wif u oni...\n",
       "2       Free entry in 2 a wkly comp to win FA Cup fina...\n",
       "3       U dun say so early hor... U c already then say...\n",
       "4       Nah I don't think he goes to usf, he lives aro...\n",
       "                              ...                        \n",
       "5567    This is the 2nd time we have tried 2 contact u...\n",
       "5568                Will Ì_ b going to esplanade fr home?\n",
       "5569    Pity, * was in mood for that. So...any other s...\n",
       "5570    The guy did some bitching but I acted like i'd...\n",
       "5571                           Rofl. Its true to its name\n",
       "Name: Text, Length: 5169, dtype: object"
      ]
     },
     "execution_count": 35,
     "metadata": {},
     "output_type": "execute_result"
    }
   ],
   "source": [
    "data['Text']"
   ]
  },
  {
   "cell_type": "code",
   "execution_count": 36,
   "metadata": {
    "execution": {
     "iopub.execute_input": "2022-12-15T11:02:35.788486Z",
     "iopub.status.busy": "2022-12-15T11:02:35.788011Z",
     "iopub.status.idle": "2022-12-15T11:02:37.547082Z",
     "shell.execute_reply": "2022-12-15T11:02:37.545587Z",
     "shell.execute_reply.started": "2022-12-15T11:02:35.788453Z"
    }
   },
   "outputs": [],
   "source": [
    "data['new_text'] = data['Text'].apply(reform)"
   ]
  },
  {
   "cell_type": "code",
   "execution_count": 37,
   "metadata": {
    "execution": {
     "iopub.execute_input": "2022-12-15T11:02:46.749994Z",
     "iopub.status.busy": "2022-12-15T11:02:46.749034Z",
     "iopub.status.idle": "2022-12-15T11:02:46.769070Z",
     "shell.execute_reply": "2022-12-15T11:02:46.767222Z",
     "shell.execute_reply.started": "2022-12-15T11:02:46.749945Z"
    }
   },
   "outputs": [
    {
     "data": {
      "text/html": [
       "<div>\n",
       "<style scoped>\n",
       "    .dataframe tbody tr th:only-of-type {\n",
       "        vertical-align: middle;\n",
       "    }\n",
       "\n",
       "    .dataframe tbody tr th {\n",
       "        vertical-align: top;\n",
       "    }\n",
       "\n",
       "    .dataframe thead th {\n",
       "        text-align: right;\n",
       "    }\n",
       "</style>\n",
       "<table border=\"1\" class=\"dataframe\">\n",
       "  <thead>\n",
       "    <tr style=\"text-align: right;\">\n",
       "      <th></th>\n",
       "      <th>Class</th>\n",
       "      <th>Text</th>\n",
       "      <th>Sent_Length</th>\n",
       "      <th>Word_length</th>\n",
       "      <th>new_text</th>\n",
       "    </tr>\n",
       "  </thead>\n",
       "  <tbody>\n",
       "    <tr>\n",
       "      <th>0</th>\n",
       "      <td>0</td>\n",
       "      <td>Go until jurong point, crazy.. Available only ...</td>\n",
       "      <td>2</td>\n",
       "      <td>24</td>\n",
       "      <td>go jurong point crazy available bugis n great ...</td>\n",
       "    </tr>\n",
       "    <tr>\n",
       "      <th>1</th>\n",
       "      <td>0</td>\n",
       "      <td>Ok lar... Joking wif u oni...</td>\n",
       "      <td>2</td>\n",
       "      <td>8</td>\n",
       "      <td>ok lar joking wif u oni</td>\n",
       "    </tr>\n",
       "    <tr>\n",
       "      <th>2</th>\n",
       "      <td>1</td>\n",
       "      <td>Free entry in 2 a wkly comp to win FA Cup fina...</td>\n",
       "      <td>2</td>\n",
       "      <td>37</td>\n",
       "      <td>free entry 2 wkly comp win fa cup final tkts 2...</td>\n",
       "    </tr>\n",
       "    <tr>\n",
       "      <th>3</th>\n",
       "      <td>0</td>\n",
       "      <td>U dun say so early hor... U c already then say...</td>\n",
       "      <td>1</td>\n",
       "      <td>13</td>\n",
       "      <td>u dun say early hor u c already say</td>\n",
       "    </tr>\n",
       "    <tr>\n",
       "      <th>4</th>\n",
       "      <td>0</td>\n",
       "      <td>Nah I don't think he goes to usf, he lives aro...</td>\n",
       "      <td>1</td>\n",
       "      <td>15</td>\n",
       "      <td>nah think go usf life around though</td>\n",
       "    </tr>\n",
       "  </tbody>\n",
       "</table>\n",
       "</div>"
      ],
      "text/plain": [
       "   Class                                               Text  Sent_Length  \\\n",
       "0      0  Go until jurong point, crazy.. Available only ...            2   \n",
       "1      0                      Ok lar... Joking wif u oni...            2   \n",
       "2      1  Free entry in 2 a wkly comp to win FA Cup fina...            2   \n",
       "3      0  U dun say so early hor... U c already then say...            1   \n",
       "4      0  Nah I don't think he goes to usf, he lives aro...            1   \n",
       "\n",
       "   Word_length                                           new_text  \n",
       "0           24  go jurong point crazy available bugis n great ...  \n",
       "1            8                            ok lar joking wif u oni  \n",
       "2           37  free entry 2 wkly comp win fa cup final tkts 2...  \n",
       "3           13                u dun say early hor u c already say  \n",
       "4           15                nah think go usf life around though  "
      ]
     },
     "execution_count": 37,
     "metadata": {},
     "output_type": "execute_result"
    }
   ],
   "source": [
    "data.head()"
   ]
  },
  {
   "cell_type": "code",
   "execution_count": 38,
   "metadata": {
    "execution": {
     "iopub.execute_input": "2022-12-15T11:13:52.667577Z",
     "iopub.status.busy": "2022-12-15T11:13:52.667139Z",
     "iopub.status.idle": "2022-12-15T11:13:52.674054Z",
     "shell.execute_reply": "2022-12-15T11:13:52.672688Z",
     "shell.execute_reply.started": "2022-12-15T11:13:52.667538Z"
    }
   },
   "outputs": [],
   "source": [
    "## Displaying top 20 most frequent words from spam and ham classes"
   ]
  },
  {
   "cell_type": "code",
   "execution_count": 39,
   "metadata": {
    "execution": {
     "iopub.execute_input": "2022-12-15T11:15:04.226908Z",
     "iopub.status.busy": "2022-12-15T11:15:04.226499Z",
     "iopub.status.idle": "2022-12-15T11:15:04.241762Z",
     "shell.execute_reply": "2022-12-15T11:15:04.240219Z",
     "shell.execute_reply.started": "2022-12-15T11:15:04.226878Z"
    }
   },
   "outputs": [
    {
     "data": {
      "text/html": [
       "<div>\n",
       "<style scoped>\n",
       "    .dataframe tbody tr th:only-of-type {\n",
       "        vertical-align: middle;\n",
       "    }\n",
       "\n",
       "    .dataframe tbody tr th {\n",
       "        vertical-align: top;\n",
       "    }\n",
       "\n",
       "    .dataframe thead th {\n",
       "        text-align: right;\n",
       "    }\n",
       "</style>\n",
       "<table border=\"1\" class=\"dataframe\">\n",
       "  <thead>\n",
       "    <tr style=\"text-align: right;\">\n",
       "      <th></th>\n",
       "      <th>Class</th>\n",
       "      <th>Text</th>\n",
       "      <th>Sent_Length</th>\n",
       "      <th>Word_length</th>\n",
       "      <th>Transformed_text</th>\n",
       "    </tr>\n",
       "  </thead>\n",
       "  <tbody>\n",
       "    <tr>\n",
       "      <th>0</th>\n",
       "      <td>0</td>\n",
       "      <td>Go until jurong point, crazy.. Available only ...</td>\n",
       "      <td>2</td>\n",
       "      <td>24</td>\n",
       "      <td>go jurong point crazy available bugis n great ...</td>\n",
       "    </tr>\n",
       "    <tr>\n",
       "      <th>1</th>\n",
       "      <td>0</td>\n",
       "      <td>Ok lar... Joking wif u oni...</td>\n",
       "      <td>2</td>\n",
       "      <td>8</td>\n",
       "      <td>ok lar joking wif u oni</td>\n",
       "    </tr>\n",
       "    <tr>\n",
       "      <th>2</th>\n",
       "      <td>1</td>\n",
       "      <td>Free entry in 2 a wkly comp to win FA Cup fina...</td>\n",
       "      <td>2</td>\n",
       "      <td>37</td>\n",
       "      <td>free entry 2 wkly comp win fa cup final tkts 2...</td>\n",
       "    </tr>\n",
       "    <tr>\n",
       "      <th>3</th>\n",
       "      <td>0</td>\n",
       "      <td>U dun say so early hor... U c already then say...</td>\n",
       "      <td>1</td>\n",
       "      <td>13</td>\n",
       "      <td>u dun say early hor u c already say</td>\n",
       "    </tr>\n",
       "    <tr>\n",
       "      <th>4</th>\n",
       "      <td>0</td>\n",
       "      <td>Nah I don't think he goes to usf, he lives aro...</td>\n",
       "      <td>1</td>\n",
       "      <td>15</td>\n",
       "      <td>nah think go usf life around though</td>\n",
       "    </tr>\n",
       "  </tbody>\n",
       "</table>\n",
       "</div>"
      ],
      "text/plain": [
       "   Class                                               Text  Sent_Length  \\\n",
       "0      0  Go until jurong point, crazy.. Available only ...            2   \n",
       "1      0                      Ok lar... Joking wif u oni...            2   \n",
       "2      1  Free entry in 2 a wkly comp to win FA Cup fina...            2   \n",
       "3      0  U dun say so early hor... U c already then say...            1   \n",
       "4      0  Nah I don't think he goes to usf, he lives aro...            1   \n",
       "\n",
       "   Word_length                                   Transformed_text  \n",
       "0           24  go jurong point crazy available bugis n great ...  \n",
       "1            8                            ok lar joking wif u oni  \n",
       "2           37  free entry 2 wkly comp win fa cup final tkts 2...  \n",
       "3           13                u dun say early hor u c already say  \n",
       "4           15                nah think go usf life around though  "
      ]
     },
     "execution_count": 39,
     "metadata": {},
     "output_type": "execute_result"
    }
   ],
   "source": [
    "data.rename(columns = {'new_text': 'Transformed_text'}, inplace = True)\n",
    "data.head()"
   ]
  },
  {
   "cell_type": "code",
   "execution_count": 40,
   "metadata": {
    "execution": {
     "iopub.execute_input": "2022-12-15T11:17:40.504407Z",
     "iopub.status.busy": "2022-12-15T11:17:40.503947Z",
     "iopub.status.idle": "2022-12-15T11:17:40.515622Z",
     "shell.execute_reply": "2022-12-15T11:17:40.514345Z",
     "shell.execute_reply.started": "2022-12-15T11:17:40.504374Z"
    }
   },
   "outputs": [],
   "source": [
    "corpus = []\n",
    "for i in data[data['Class']==1]['Transformed_text']:\n",
    "    for j in i.split(\" \"):\n",
    "        corpus.append(j)"
   ]
  },
  {
   "cell_type": "code",
   "execution_count": 41,
   "metadata": {
    "execution": {
     "iopub.execute_input": "2022-12-15T11:20:48.859848Z",
     "iopub.status.busy": "2022-12-15T11:20:48.859371Z",
     "iopub.status.idle": "2022-12-15T11:20:48.866755Z",
     "shell.execute_reply": "2022-12-15T11:20:48.865054Z",
     "shell.execute_reply.started": "2022-12-15T11:20:48.859814Z"
    }
   },
   "outputs": [],
   "source": [
    "from collections import Counter\n"
   ]
  },
  {
   "cell_type": "code",
   "execution_count": 42,
   "metadata": {
    "execution": {
     "iopub.execute_input": "2022-12-15T11:38:29.181766Z",
     "iopub.status.busy": "2022-12-15T11:38:29.181275Z",
     "iopub.status.idle": "2022-12-15T11:38:29.508109Z",
     "shell.execute_reply": "2022-12-15T11:38:29.506619Z",
     "shell.execute_reply.started": "2022-12-15T11:38:29.181733Z"
    }
   },
   "outputs": [
    {
     "data": {
      "text/plain": [
       "<AxesSubplot:xlabel='0', ylabel='1'>"
      ]
     },
     "execution_count": 42,
     "metadata": {},
     "output_type": "execute_result"
    },
    {
     "data": {
      "image/png": "[encoded data removed]",
      "text/plain": [
       "<Figure size 1080x576 with 1 Axes>"
      ]
     },
     "metadata": {
      "needs_background": "light"
     },
     "output_type": "display_data"
    }
   ],
   "source": [
    "plt.figure(figsize = (15,8))\n",
    "sns.barplot(pd.DataFrame(Counter(corpus).most_common(21))[0],pd.DataFrame(Counter(corpus).most_common(21))[1])    "
   ]
  },
  {
   "cell_type": "markdown",
   "metadata": {},
   "source": [
    "> These ar the top 20 most frequent spam words used."
   ]
  },
  {
   "cell_type": "markdown",
   "metadata": {},
   "source": [
    "## Model Building"
   ]
  },
  {
   "cell_type": "code",
   "execution_count": 43,
   "metadata": {
    "execution": {
     "iopub.execute_input": "2022-12-15T13:19:22.924284Z",
     "iopub.status.busy": "2022-12-15T13:19:22.923798Z",
     "iopub.status.idle": "2022-12-15T13:19:22.931046Z",
     "shell.execute_reply": "2022-12-15T13:19:22.929608Z",
     "shell.execute_reply.started": "2022-12-15T13:19:22.924249Z"
    }
   },
   "outputs": [],
   "source": [
    "X = data['Transformed_text']\n",
    "Y = data['Class']"
   ]
  },
  {
   "cell_type": "code",
   "execution_count": 44,
   "metadata": {
    "execution": {
     "iopub.execute_input": "2022-12-15T13:19:23.845725Z",
     "iopub.status.busy": "2022-12-15T13:19:23.844573Z",
     "iopub.status.idle": "2022-12-15T13:19:23.853179Z",
     "shell.execute_reply": "2022-12-15T13:19:23.852211Z",
     "shell.execute_reply.started": "2022-12-15T13:19:23.845687Z"
    }
   },
   "outputs": [],
   "source": [
    "from sklearn.model_selection import train_test_split\n",
    "X_train, X_test, Y_train, Y_test = train_test_split(X,Y,test_size =0.2, random_state = 25)"
   ]
  },
  {
   "cell_type": "markdown",
   "metadata": {},
   "source": [
    "### TFIDF"
   ]
  },
  {
   "cell_type": "code",
   "execution_count": 45,
   "metadata": {
    "execution": {
     "iopub.execute_input": "2022-12-15T13:19:31.425113Z",
     "iopub.status.busy": "2022-12-15T13:19:31.424179Z",
     "iopub.status.idle": "2022-12-15T13:19:31.432608Z",
     "shell.execute_reply": "2022-12-15T13:19:31.431215Z",
     "shell.execute_reply.started": "2022-12-15T13:19:31.425067Z"
    }
   },
   "outputs": [],
   "source": [
    "from sklearn.feature_extraction.text import TfidfVectorizer\n",
    "features = TfidfVectorizer(min_df = 1, stop_words = 'english', lowercase = 'True')"
   ]
  },
  {
   "cell_type": "code",
   "execution_count": 46,
   "metadata": {
    "execution": {
     "iopub.execute_input": "2022-12-15T13:19:32.085797Z",
     "iopub.status.busy": "2022-12-15T13:19:32.085251Z",
     "iopub.status.idle": "2022-12-15T13:19:32.339607Z",
     "shell.execute_reply": "2022-12-15T13:19:32.338647Z",
     "shell.execute_reply.started": "2022-12-15T13:19:32.085756Z"
    }
   },
   "outputs": [],
   "source": [
    "X_train_features = features.fit_transform(X_train).toarray()\n",
    "X_test_features = features.transform(X_test).toarray()"
   ]
  },
  {
   "cell_type": "code",
   "execution_count": 47,
   "metadata": {
    "execution": {
     "iopub.execute_input": "2022-12-15T13:19:34.188666Z",
     "iopub.status.busy": "2022-12-15T13:19:34.187581Z",
     "iopub.status.idle": "2022-12-15T13:19:34.194392Z",
     "shell.execute_reply": "2022-12-15T13:19:34.192732Z",
     "shell.execute_reply.started": "2022-12-15T13:19:34.188627Z"
    }
   },
   "outputs": [],
   "source": [
    "from sklearn.naive_bayes import GaussianNB, MultinomialNB, BernoulliNB\n",
    "from sklearn.metrics import accuracy_score, confusion_matrix, precision_score"
   ]
  },
  {
   "cell_type": "markdown",
   "metadata": {},
   "source": [
    "## Naive Bayes"
   ]
  },
  {
   "cell_type": "code",
   "execution_count": 48,
   "metadata": {
    "execution": {
     "iopub.execute_input": "2022-12-15T13:19:52.108096Z",
     "iopub.status.busy": "2022-12-15T13:19:52.107595Z",
     "iopub.status.idle": "2022-12-15T13:19:52.113624Z",
     "shell.execute_reply": "2022-12-15T13:19:52.112670Z",
     "shell.execute_reply.started": "2022-12-15T13:19:52.108058Z"
    }
   },
   "outputs": [],
   "source": [
    "gnb = GaussianNB()\n",
    "mnb = MultinomialNB()\n",
    "bnb = BernoulliNB()"
   ]
  },
  {
   "cell_type": "code",
   "execution_count": 49,
   "metadata": {
    "execution": {
     "iopub.execute_input": "2022-12-15T13:19:54.668962Z",
     "iopub.status.busy": "2022-12-15T13:19:54.667761Z",
     "iopub.status.idle": "2022-12-15T13:19:55.250895Z",
     "shell.execute_reply": "2022-12-15T13:19:55.249841Z",
     "shell.execute_reply.started": "2022-12-15T13:19:54.668915Z"
    }
   },
   "outputs": [
    {
     "name": "stdout",
     "output_type": "stream",
     "text": [
      "0.874274661508704\n",
      "\n",
      "[[785 109]\n",
      " [ 21 119]]\n",
      "\n",
      "0.5219298245614035\n"
     ]
    }
   ],
   "source": [
    "gnb.fit(X_train_features, Y_train)\n",
    "Y_pred = gnb.predict(X_test_features)\n",
    "\n",
    "print(accuracy_score(Y_test,Y_pred))\n",
    "print()\n",
    "print(confusion_matrix(Y_test,Y_pred))\n",
    "print()\n",
    "print(precision_score(Y_test,Y_pred))"
   ]
  },
  {
   "cell_type": "code",
   "execution_count": 50,
   "metadata": {
    "execution": {
     "iopub.execute_input": "2022-12-15T13:19:58.098914Z",
     "iopub.status.busy": "2022-12-15T13:19:58.097800Z",
     "iopub.status.idle": "2022-12-15T13:19:58.196106Z",
     "shell.execute_reply": "2022-12-15T13:19:58.194536Z",
     "shell.execute_reply.started": "2022-12-15T13:19:58.098876Z"
    }
   },
   "outputs": [
    {
     "name": "stdout",
     "output_type": "stream",
     "text": [
      "0.9516441005802708\n",
      "\n",
      "[[894   0]\n",
      " [ 50  90]]\n",
      "\n",
      "1.0\n"
     ]
    }
   ],
   "source": [
    "mnb.fit(X_train_features, Y_train)\n",
    "Y_pred2 = mnb.predict(X_test_features)\n",
    "\n",
    "print(accuracy_score(Y_test,Y_pred2))\n",
    "print()\n",
    "print(confusion_matrix(Y_test,Y_pred2))\n",
    "print()\n",
    "print(precision_score(Y_test,Y_pred2))"
   ]
  },
  {
   "cell_type": "code",
   "execution_count": 51,
   "metadata": {
    "execution": {
     "iopub.execute_input": "2022-12-15T13:20:05.852351Z",
     "iopub.status.busy": "2022-12-15T13:20:05.851813Z",
     "iopub.status.idle": "2022-12-15T13:20:06.291504Z",
     "shell.execute_reply": "2022-12-15T13:20:06.289838Z",
     "shell.execute_reply.started": "2022-12-15T13:20:05.852307Z"
    },
    "scrolled": true
   },
   "outputs": [
    {
     "name": "stdout",
     "output_type": "stream",
     "text": [
      "0.9622823984526112\n",
      "\n",
      "[[894   0]\n",
      " [ 39 101]]\n",
      "\n",
      "1.0\n"
     ]
    }
   ],
   "source": [
    "bnb.fit(X_train_features, Y_train)\n",
    "Y_pred3 = bnb.predict(X_test_features)\n",
    "\n",
    "print(accuracy_score(Y_test,Y_pred3))\n",
    "print()\n",
    "print(confusion_matrix(Y_test,Y_pred3))\n",
    "print()\n",
    "print(precision_score(Y_test,Y_pred3))"
   ]
  },
  {
   "cell_type": "code",
   "execution_count": 54,
   "metadata": {},
   "outputs": [],
   "source": [
    "## Comparision\n",
    "\n",
    "Models_nb = pd.DataFrame({'Models':['GaussianNB', 'MultinomialNB','BernoulliNB'], 'Accuracy': [accuracy_score(Y_test,Y_pred)*100,accuracy_score(Y_test,Y_pred2)*100,accuracy_score(Y_test,Y_pred3)*100]})"
   ]
  },
  {
   "cell_type": "code",
   "execution_count": 55,
   "metadata": {},
   "outputs": [
    {
     "data": {
      "text/plain": [
       "<AxesSubplot:xlabel='Models', ylabel='Accuracy'>"
      ]
     },
     "execution_count": 55,
     "metadata": {},
     "output_type": "execute_result"
    },
    {
     "data": {
      "image/png": "[encoded data removed]",
      "text/plain": [
       "<Figure size 720x360 with 1 Axes>"
      ]
     },
     "metadata": {
      "needs_background": "light"
     },
     "output_type": "display_data"
    }
   ],
   "source": [
    "plt.figure(figsize=(10,5))\n",
    "sns.set()\n",
    "sns.barplot(Models_nb['Models'], Models['Accuracy'],palette=\"Spectral_r\")"
   ]
  },
  {
   "cell_type": "markdown",
   "metadata": {},
   "source": [
    "## Random Forest"
   ]
  },
  {
   "cell_type": "code",
   "execution_count": 49,
   "metadata": {
    "execution": {
     "iopub.execute_input": "2022-12-15T12:30:58.958359Z",
     "iopub.status.busy": "2022-12-15T12:30:58.957535Z",
     "iopub.status.idle": "2022-12-15T12:30:59.116949Z",
     "shell.execute_reply": "2022-12-15T12:30:59.115478Z",
     "shell.execute_reply.started": "2022-12-15T12:30:58.958318Z"
    }
   },
   "outputs": [],
   "source": [
    "from sklearn.ensemble import RandomForestClassifier\n",
    "rf = RandomForestClassifier(n_estimators=100, criterion='gini', max_depth=5, min_samples_split=2, min_samples_leaf=1)"
   ]
  },
  {
   "cell_type": "code",
   "execution_count": 50,
   "metadata": {
    "execution": {
     "iopub.execute_input": "2022-12-15T12:31:34.646733Z",
     "iopub.status.busy": "2022-12-15T12:31:34.645895Z",
     "iopub.status.idle": "2022-12-15T12:31:36.494398Z",
     "shell.execute_reply": "2022-12-15T12:31:36.493184Z",
     "shell.execute_reply.started": "2022-12-15T12:31:34.646692Z"
    }
   },
   "outputs": [
    {
     "name": "stdout",
     "output_type": "stream",
     "text": [
      "0.8646034816247582\n",
      "\n",
      "[[894   0]\n",
      " [140   0]]\n",
      "\n",
      "0.0\n"
     ]
    }
   ],
   "source": [
    "rf.fit(X_train_features, Y_train)\n",
    "Y_pred4 = rf.predict(X_test_features)\n",
    "\n",
    "print(accuracy_score(Y_test,Y_pred4))\n",
    "print()\n",
    "print(confusion_matrix(Y_test,Y_pred4))\n",
    "print()\n",
    "print(precision_score(Y_test,Y_pred4))"
   ]
  },
  {
   "cell_type": "code",
   "execution_count": 58,
   "metadata": {},
   "outputs": [
    {
     "data": {
      "text/plain": [
       "<AxesSubplot:>"
      ]
     },
     "execution_count": 58,
     "metadata": {},
     "output_type": "execute_result"
    },
    {
     "data": {
      "image/png": "[encoded data removed]",
      "text/plain": [
       "<Figure size 504x288 with 2 Axes>"
      ]
     },
     "metadata": {},
     "output_type": "display_data"
    }
   ],
   "source": [
    "\n",
    "plt.figure(figsize =(7,4))\n",
    "cm = confusion_matrix(Y_test,Y_pred3)\n",
    "\n",
    "sns.heatmap(cm, annot = True)"
   ]
  },
  {
   "cell_type": "markdown",
   "metadata": {},
   "source": [
    "## Balancing the data"
   ]
  },
  {
   "cell_type": "code",
   "execution_count": 59,
   "metadata": {
    "execution": {
     "iopub.execute_input": "2022-12-15T13:20:12.706421Z",
     "iopub.status.busy": "2022-12-15T13:20:12.705823Z",
     "iopub.status.idle": "2022-12-15T13:20:12.826966Z",
     "shell.execute_reply": "2022-12-15T13:20:12.825986Z",
     "shell.execute_reply.started": "2022-12-15T13:20:12.706377Z"
    }
   },
   "outputs": [],
   "source": [
    "X_features = features.fit_transform(X)"
   ]
  },
  {
   "cell_type": "code",
   "execution_count": 60,
   "metadata": {
    "execution": {
     "iopub.execute_input": "2022-12-15T13:20:15.330410Z",
     "iopub.status.busy": "2022-12-15T13:20:15.329634Z",
     "iopub.status.idle": "2022-12-15T13:20:15.360593Z",
     "shell.execute_reply": "2022-12-15T13:20:15.359342Z",
     "shell.execute_reply.started": "2022-12-15T13:20:15.330370Z"
    }
   },
   "outputs": [],
   "source": [
    "from imblearn.over_sampling import SMOTE\n",
    "\n",
    "sm = SMOTE(random_state =23)\n",
    "X_sm , y_sm = sm.fit_resample(X_features,Y)"
   ]
  },
  {
   "cell_type": "code",
   "execution_count": 61,
   "metadata": {
    "execution": {
     "iopub.execute_input": "2022-12-15T13:20:42.235019Z",
     "iopub.status.busy": "2022-12-15T13:20:42.233997Z",
     "iopub.status.idle": "2022-12-15T13:20:42.244067Z",
     "shell.execute_reply": "2022-12-15T13:20:42.242421Z",
     "shell.execute_reply.started": "2022-12-15T13:20:42.234974Z"
    }
   },
   "outputs": [],
   "source": [
    "X_train, X_test, y_train, y_test = train_test_split(X_sm , y_sm, test_size = 0.20, random_state = 42)"
   ]
  },
  {
   "cell_type": "code",
   "execution_count": 62,
   "metadata": {
    "execution": {
     "iopub.execute_input": "2022-12-15T13:20:51.161097Z",
     "iopub.status.busy": "2022-12-15T13:20:51.160579Z",
     "iopub.status.idle": "2022-12-15T13:20:51.167000Z",
     "shell.execute_reply": "2022-12-15T13:20:51.165591Z",
     "shell.execute_reply.started": "2022-12-15T13:20:51.161058Z"
    }
   },
   "outputs": [],
   "source": [
    "bnb1 = BernoulliNB()"
   ]
  },
  {
   "cell_type": "code",
   "execution_count": 63,
   "metadata": {
    "execution": {
     "iopub.execute_input": "2022-12-15T13:21:04.920767Z",
     "iopub.status.busy": "2022-12-15T13:21:04.920300Z",
     "iopub.status.idle": "2022-12-15T13:21:04.940650Z",
     "shell.execute_reply": "2022-12-15T13:21:04.939298Z",
     "shell.execute_reply.started": "2022-12-15T13:21:04.920727Z"
    }
   },
   "outputs": [
    {
     "name": "stdout",
     "output_type": "stream",
     "text": [
      "0.9922523519645822\n",
      "\n",
      "[[882   2]\n",
      " [ 12 911]]\n",
      "\n",
      "0.9978094194961665\n"
     ]
    }
   ],
   "source": [
    "bnb1.fit(X_train, y_train)\n",
    "Y_pred4 = bnb1.predict(X_test)\n",
    "\n",
    "print(accuracy_score(y_test,Y_pred4))\n",
    "print()\n",
    "print(confusion_matrix(y_test,Y_pred4))\n",
    "print()\n",
    "print(precision_score(y_test,Y_pred4))"
   ]
  },
  {
   "cell_type": "code",
   "execution_count": 64,
   "metadata": {
    "execution": {
     "iopub.execute_input": "2022-12-15T13:11:01.389006Z",
     "iopub.status.busy": "2022-12-15T13:11:01.388610Z",
     "iopub.status.idle": "2022-12-15T13:11:01.393290Z",
     "shell.execute_reply": "2022-12-15T13:11:01.392492Z",
     "shell.execute_reply.started": "2022-12-15T13:11:01.388978Z"
    }
   },
   "outputs": [],
   "source": [
    "from sklearn.metrics import f1_score,classification_report"
   ]
  },
  {
   "cell_type": "code",
   "execution_count": 65,
   "metadata": {
    "execution": {
     "iopub.execute_input": "2022-12-15T13:21:14.656393Z",
     "iopub.status.busy": "2022-12-15T13:21:14.655925Z",
     "iopub.status.idle": "2022-12-15T13:21:14.673030Z",
     "shell.execute_reply": "2022-12-15T13:21:14.671214Z",
     "shell.execute_reply.started": "2022-12-15T13:21:14.656359Z"
    },
    "scrolled": true
   },
   "outputs": [
    {
     "name": "stdout",
     "output_type": "stream",
     "text": [
      "              precision    recall  f1-score   support\n",
      "\n",
      "           0       0.99      1.00      0.99       884\n",
      "           1       1.00      0.99      0.99       923\n",
      "\n",
      "    accuracy                           0.99      1807\n",
      "   macro avg       0.99      0.99      0.99      1807\n",
      "weighted avg       0.99      0.99      0.99      1807\n",
      "\n"
     ]
    }
   ],
   "source": [
    "print(classification_report(y_test,Y_pred4))\n"
   ]
  },
  {
   "cell_type": "code",
   "execution_count": 68,
   "metadata": {},
   "outputs": [],
   "source": [
    "## Comparision\n",
    "\n",
    "Models_nb_2 = pd.DataFrame({'Model':['BernoulliNB'], 'Accuracy': [accuracy_score(y_test,Y_pred4)*100]})"
   ]
  },
  {
   "cell_type": "code",
   "execution_count": 74,
   "metadata": {},
   "outputs": [
    {
     "data": {
      "text/plain": [
       "<AxesSubplot:xlabel='Model', ylabel='Accuracy'>"
      ]
     },
     "execution_count": 74,
     "metadata": {},
     "output_type": "execute_result"
    },
    {
     "data": {
      "image/png": "[encoded data removed]",
      "text/plain": [
       "<Figure size 360x360 with 1 Axes>"
      ]
     },
     "metadata": {},
     "output_type": "display_data"
    }
   ],
   "source": [
    "plt.figure(figsize=(5,5))\n",
    "sns.set()\n",
    "sns.barplot(Models_nb_2['Model'], Models['Accuracy'],palette=\"Spectral\")"
   ]
  },
  {
   "cell_type": "code",
   "execution_count": 66,
   "metadata": {
    "execution": {
     "iopub.execute_input": "2022-12-15T13:12:19.293303Z",
     "iopub.status.busy": "2022-12-15T13:12:19.292865Z",
     "iopub.status.idle": "2022-12-15T13:12:19.546436Z",
     "shell.execute_reply": "2022-12-15T13:12:19.544971Z",
     "shell.execute_reply.started": "2022-12-15T13:12:19.293267Z"
    }
   },
   "outputs": [
    {
     "data": {
      "text/plain": [
       "<AxesSubplot:>"
      ]
     },
     "execution_count": 66,
     "metadata": {},
     "output_type": "execute_result"
    },
    {
     "data": {
      "image/png": "[encoded data removed]",
      "text/plain": [
       "<Figure size 504x288 with 2 Axes>"
      ]
     },
     "metadata": {},
     "output_type": "display_data"
    }
   ],
   "source": [
    "# Confusion matrics on DT\n",
    "\n",
    "plt.figure(figsize =(7,4))\n",
    "cm = confusion_matrix(y_test,Y_pred4)\n",
    "\n",
    "sns.heatmap(cm, annot = True)"
   ]
  },
  {
   "cell_type": "markdown",
   "metadata": {},
   "source": [
    "## Now after balancing the model is performing much better."
   ]
  },
  {
   "cell_type": "code",
   "execution_count": 60,
   "metadata": {},
   "outputs": [
    {
     "name": "stdout",
     "output_type": "stream",
     "text": [
      "[1]\n"
     ]
    }
   ],
   "source": [
    "inp = ['free 200 gift card enroll in the contest and win amazing prices at home']\n",
    "\n",
    "input_data = features.transform(inp)\n",
    "\n",
    "prediction = bnb1.predict(input_data)\n",
    "print(prediction)"
   ]
  },
  {
   "cell_type": "code",
   "execution_count": 61,
   "metadata": {
    "execution": {
     "iopub.execute_input": "2022-12-15T13:24:42.727681Z",
     "iopub.status.busy": "2022-12-15T13:24:42.727170Z",
     "iopub.status.idle": "2022-12-15T13:24:42.739570Z",
     "shell.execute_reply": "2022-12-15T13:24:42.737946Z",
     "shell.execute_reply.started": "2022-12-15T13:24:42.727643Z"
    }
   },
   "outputs": [],
   "source": [
    "import pickle\n",
    "\n",
    "pickle.dump(features, open('vectorizer.pkl', 'wb'))\n",
    "pickle.dump(bnb1, open('model.pkl', 'wb'))"
   ]
  },
  {
   "cell_type": "code",
   "execution_count": null,
   "metadata": {},
   "outputs": [],
   "source": []
  },
  {
   "cell_type": "code",
   "execution_count": null,
   "metadata": {},
   "outputs": [],
   "source": []
  }
 ],
 "metadata": {
  "kernelspec": {
   "display_name": "Python 3 (ipykernel)",
   "language": "python",
   "name": "python3"
  },
  "language_info": {
   "codemirror_mode": {
    "name": "ipython",
    "version": 3
   },
   "file_extension": ".py",
   "mimetype": "text/x-python",
   "name": "python",
   "nbconvert_exporter": "python",
   "pygments_lexer": "ipython3",
   "version": "3.9.7"
  }
 },
 "nbformat": 4,
 "nbformat_minor": 4
}
